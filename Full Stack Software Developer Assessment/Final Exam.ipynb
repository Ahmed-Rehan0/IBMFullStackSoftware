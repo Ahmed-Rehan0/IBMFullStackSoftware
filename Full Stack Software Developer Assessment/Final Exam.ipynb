{
 "cells": [
  {
   "cell_type": "code",
   "execution_count": 1,
   "id": "6231dbd2",
   "metadata": {},
   "outputs": [
    {
     "name": "stdout",
     "output_type": "stream",
     "text": [
      "x= A  y= B\n"
     ]
    }
   ],
   "source": [
    "class Points(object):\n",
    "      def __init__(self,x,y):\n",
    "            self.x=x\n",
    "            self.y=y\n",
    "      def print_point(self):\n",
    "            print('x=',self.x,' y=',self.y)\n",
    "p1=Points(\"A\",\"B\")\n",
    "p1.print_point()"
   ]
  },
  {
   "cell_type": "code",
   "execution_count": 3,
   "id": "e42ce0ed",
   "metadata": {},
   "outputs": [
    {
     "name": "stdout",
     "output_type": "stream",
     "text": [
      "Hello\n",
      "Hillary\n"
     ]
    }
   ],
   "source": [
    "x=4\n",
    "\n",
    "if(x > 3): \n",
    "  print('Hello') \n",
    "else: \n",
    "  print('Bye') \n",
    "print('Hillary') "
   ]
  },
  {
   "cell_type": "code",
   "execution_count": null,
   "id": "ab110fb0",
   "metadata": {},
   "outputs": [],
   "source": []
  }
 ],
 "metadata": {
  "kernelspec": {
   "display_name": "Python 3 (ipykernel)",
   "language": "python",
   "name": "python3"
  },
  "language_info": {
   "codemirror_mode": {
    "name": "ipython",
    "version": 3
   },
   "file_extension": ".py",
   "mimetype": "text/x-python",
   "name": "python",
   "nbconvert_exporter": "python",
   "pygments_lexer": "ipython3",
   "version": "3.8.8"
  }
 },
 "nbformat": 4,
 "nbformat_minor": 5
}
